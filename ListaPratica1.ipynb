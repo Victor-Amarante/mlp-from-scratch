{
  "cells": [
    {
      "cell_type": "markdown",
      "metadata": {
        "id": "0ohhqvDmw6lT"
      },
      "source": [
        "## IF867 - Introdução à Aprendizagem Profunda\n",
        "### 1ª atividade prática\n",
        "\n",
        "Discente(s): Victor Amarante Florentino da Silva\n",
        "\n",
        "Período: 2024.2"
      ]
    },
    {
      "cell_type": "markdown",
      "metadata": {
        "id": "_RQsH4O6xAMY"
      },
      "source": [
        "## Carregas bibliotecas necessárias"
      ]
    },
    {
      "cell_type": "code",
      "execution_count": 1,
      "metadata": {
        "id": "t3jPU4FywdYI"
      },
      "outputs": [],
      "source": [
        "# --- analise e manipulacao de dados ---\n",
        "import numpy as np\n",
        "import pandas as pd\n",
        "import matplotlib.pyplot as plt\n",
        "import seaborn as sns\n",
        "\n",
        "# --- machine learning e pre-processamento dos dados ---\n",
        "from sklearn.datasets import load_iris\n",
        "from sklearn.model_selection import train_test_split\n",
        "from sklearn.preprocessing import StandardScaler\n",
        "from sklearn.metrics import mean_squared_error, accuracy_score, confusion_matrix, f1_score"
      ]
    },
    {
      "cell_type": "markdown",
      "metadata": {
        "id": "oqConANHxCcP"
      },
      "source": [
        "## Carregar datasets\n",
        "1. iris dataset\n",
        "2. wine quality dataset"
      ]
    },
    {
      "cell_type": "code",
      "execution_count": 2,
      "metadata": {
        "id": "3AlYqFR6w6IG"
      },
      "outputs": [],
      "source": [
        "# --- IRIS DATASET ---\n",
        "iris_data = load_iris()\n",
        "features, labels = iris_data.data, iris_data.target\n",
        "\n",
        "binary_mask = labels != 2\n",
        "features, labels = features[binary_mask], labels[binary_mask]\n",
        "\n",
        "scaler = StandardScaler()\n",
        "features_scaled = scaler.fit_transform(features)\n",
        "\n",
        "labels = labels[:, np.newaxis]\n",
        "\n",
        "X_train, X_test, y_train, y_test = train_test_split(features_scaled, labels, test_size=0.2, random_state=42)"
      ]
    },
    {
      "cell_type": "code",
      "execution_count": 3,
      "metadata": {
        "id": "QzMliW5yxzjk"
      },
      "outputs": [],
      "source": [
        "# --- WINE QUALITY DATASET ---\n",
        "wine_data = pd.read_csv('https://archive.ics.uci.edu/ml/machine-learning-databases/wine-quality/winequality-red.csv', sep=';')\n",
        "\n",
        "X_reg = wine_data.iloc[:, :-1].values\n",
        "y_reg = wine_data.iloc[:, -1].values[:, np.newaxis]\n",
        "\n",
        "scaler_reg = StandardScaler()\n",
        "X_reg = scaler_reg.fit_transform(X_reg)\n",
        "\n",
        "X_train_reg, X_test_reg, y_train_reg, y_test_reg = train_test_split(X_reg, y_reg, test_size=0.2, random_state=42)"
      ]
    },
    {
      "cell_type": "markdown",
      "metadata": {
        "id": "K-MmudTLyeJe"
      },
      "source": [
        "Agora que temos as bases de dados carregas, vamos implementar as funções de ativação que serão utilizadas dentro da classe de MLP para podermos criar a rede e, posteriormente, treiná-la."
      ]
    },
    {
      "cell_type": "markdown",
      "metadata": {
        "id": "KWraw5IPyDq-"
      },
      "source": [
        "## Funções de Ativação"
      ]
    },
    {
      "cell_type": "code",
      "execution_count": 4,
      "metadata": {
        "id": "nJQ-V_OxyRf2"
      },
      "outputs": [],
      "source": [
        "def sigmoid(x):\n",
        "    return 1 / (1 + np.exp(-x))\n",
        "\n",
        "def sigmoid_derivative(x):\n",
        "    return sigmoid(x) * (1 - sigmoid(x))\n",
        "\n",
        "def relu(x):\n",
        "    return np.maximum(0, x)\n",
        "\n",
        "def relu_derivative(x):\n",
        "    return (x > 0).astype(float)\n",
        "\n",
        "def linear(x):\n",
        "    return x\n",
        "\n",
        "def linear_derivative(x):\n",
        "    return np.ones_like(x)"
      ]
    },
    {
      "cell_type": "markdown",
      "metadata": {
        "id": "M1OKpIN5ysj8"
      },
      "source": [
        "## Classe MLP"
      ]
    },
    {
      "cell_type": "code",
      "execution_count": 5,
      "metadata": {
        "id": "0-pSEuMAyb28"
      },
      "outputs": [],
      "source": [
        "import numpy as np\n",
        "\n",
        "class MLP:\n",
        "    def __init__(self, layer_sizes, activations):\n",
        "        self.layer_sizes = layer_sizes\n",
        "        self.activations = activations\n",
        "        self.weights = self._initialize_weights()\n",
        "\n",
        "    def _initialize_weights(self):\n",
        "        weights = {}\n",
        "        np.random.seed(42)\n",
        "        for i in range(1, len(self.layer_sizes)):\n",
        "            weights[f'W{i}'] = np.random.randn(self.layer_sizes[i-1], self.layer_sizes[i]) * np.sqrt(2 / self.layer_sizes[i-1])\n",
        "            weights[f'b{i}'] = np.zeros((1, self.layer_sizes[i]))\n",
        "        return weights\n",
        "\n",
        "    def _activate(self, z, activation_func):\n",
        "        activation_map = {\n",
        "            'sigmoid': lambda z: 1 / (1 + np.exp(-z)),\n",
        "            'relu': lambda z: np.maximum(0, z),\n",
        "            'linear': lambda z: z\n",
        "        }\n",
        "        return activation_map.get(activation_func, lambda z: z)(z)\n",
        "\n",
        "    def _activation_derivative(self, z, activation_func):\n",
        "        derivative_map = {\n",
        "            'sigmoid': lambda z: self._activate(z, 'sigmoid') * (1 - self._activate(z, 'sigmoid')),\n",
        "            'relu': lambda z: (z > 0).astype(float),\n",
        "            'linear': lambda z: np.ones_like(z)\n",
        "        }\n",
        "        return derivative_map.get(activation_func, lambda z: 1)(z)\n",
        "\n",
        "    def _forward(self, X):\n",
        "        cache = {'A0': X}\n",
        "        A_prev = X\n",
        "        for i in range(1, len(self.layer_sizes)):\n",
        "            Z = np.dot(A_prev, self.weights[f'W{i}']) + self.weights[f'b{i}']\n",
        "            A = self._activate(Z, self.activations[i-1])\n",
        "            cache[f'Z{i}'] = Z\n",
        "            cache[f'A{i}'] = A\n",
        "            A_prev = A\n",
        "        return cache[f'A{len(self.layer_sizes)-1}'], cache\n",
        "\n",
        "    def compute_loss(self, Y_pred, Y, loss_type='mse'):\n",
        "      if loss_type == 'mse':\n",
        "          return np.mean((Y_pred - Y) ** 2)\n",
        "      elif loss_type == 'bce':\n",
        "          epsilon = 1e-10  # Para evitar log(0)\n",
        "          Y_pred = np.clip(Y_pred, epsilon, 1 - epsilon)  # Garantir que as previsões estão entre 0 e 1\n",
        "          return -np.mean(Y * np.log(Y_pred) + (1 - Y) * np.log(1 - Y_pred))\n",
        "      return None\n",
        "\n",
        "\n",
        "    def _backward(self, cache, Y, loss_type='mse'):\n",
        "        m = Y.shape[0]\n",
        "        A_final = cache[f'A{len(self.layer_sizes)-1}']\n",
        "\n",
        "        # Calcular erro da camada de saída\n",
        "        if loss_type == 'mse':\n",
        "            dA = 2 * (A_final - Y) / m\n",
        "        elif loss_type == 'bce':\n",
        "            dA = -(Y / A_final) + ((1 - Y) / (1 - A_final))\n",
        "\n",
        "        grads = {}\n",
        "        for i in reversed(range(1, len(self.layer_sizes))):\n",
        "            dZ = dA * self._activation_derivative(cache[f'Z{i}'], self.activations[i-1])\n",
        "            A_prev = cache[f'A{i-1}']\n",
        "            grads[f'dW{i}'] = np.dot(A_prev.T, dZ)\n",
        "            grads[f'db{i}'] = np.sum(dZ, axis=0, keepdims=True)\n",
        "            if i > 1:\n",
        "                dA = np.dot(dZ, self.weights[f'W{i}'].T)\n",
        "        return grads\n",
        "\n",
        "    def _update_parameters(self, grads, learning_rate=0.01, momentum=0.9):\n",
        "        if not hasattr(self, 'velocity'):\n",
        "            self.velocity = {key: np.zeros_like(value) for key, value in self.weights.items()}\n",
        "\n",
        "        for key in self.weights:\n",
        "            self.velocity[key] = momentum * self.velocity[key] - learning_rate * grads[f'd{key}']\n",
        "            self.weights[key] += self.velocity[key]\n",
        "\n",
        "    def train(self, X, Y, iterations=1000, learning_rate=0.01, loss_type='mse', verbose=True):\n",
        "        loss_history = []\n",
        "        for iteration in range(iterations):\n",
        "            Y_pred, cache = self._forward(X)\n",
        "            loss = self.compute_loss(Y_pred, Y, loss_type)\n",
        "            loss_history.append(loss)\n",
        "            grads = self._backward(cache, Y, loss_type)\n",
        "            self._update_parameters(grads, learning_rate)\n",
        "\n",
        "            if verbose and (iteration % (iterations // 10) == 0 or iteration == iterations - 1):\n",
        "                print(f\"Iteração {iteration+1}/{iterations} - Perda: {loss:.4f}\")\n",
        "        return loss_history\n",
        "\n",
        "    def predict(self, X):\n",
        "        Y_pred, _ = self._forward(X)\n",
        "        return Y_pred\n"
      ]
    },
    {
      "cell_type": "code",
      "execution_count": 6,
      "metadata": {
        "colab": {
          "base_uri": "https://localhost:8080/",
          "height": 730
        },
        "id": "8HDatOA2zRI7",
        "outputId": "3988a697-3301-4633-c12b-1b244f1a2b36"
      },
      "outputs": [
        {
          "name": "stdout",
          "output_type": "stream",
          "text": [
            "Iteração 1/200 - Perda: 0.6737\n",
            "Iteração 21/200 - Perda: 0.0046\n",
            "Iteração 41/200 - Perda: 0.0011\n",
            "Iteração 61/200 - Perda: 0.0008\n",
            "Iteração 81/200 - Perda: 0.0007\n",
            "Iteração 101/200 - Perda: 0.0007\n",
            "Iteração 121/200 - Perda: 0.0007\n",
            "Iteração 141/200 - Perda: 0.0006\n",
            "Iteração 161/200 - Perda: 0.0006\n",
            "Iteração 181/200 - Perda: 0.0006\n",
            "Iteração 200/200 - Perda: 0.0005\n",
            "acc train: 1.0\n",
            "acc test: 1.0\n",
            "f1 score test: 1.0000\n"
          ]
        },
        {
          "data": {
            "image/png": "[encoded data removed]",
            "text/plain": [
              "<Figure size 600x500 with 1 Axes>"
            ]
          },
          "metadata": {},
          "output_type": "display_data"
        }
      ],
      "source": [
        "# Certifique-se de que y_train e y_test estão com a forma correta (coluna).\n",
        "y_train = y_train.reshape(-1, 1)\n",
        "y_test = y_test.reshape(-1, 1)\n",
        "\n",
        "# Definindo a rede neural e funções de ativação\n",
        "layer_sizes = [X_train.shape[1], 3, 3, 1]\n",
        "activations = ['relu', 'sigmoid', 'sigmoid']\n",
        "\n",
        "mlp_classifier = MLP(layer_sizes, activations)\n",
        "\n",
        "\n",
        "loss_history = mlp_classifier.train(X_train, y_train, iterations=200, learning_rate=0.01, loss_type='bce')\n",
        "\n",
        "y_pred_train = mlp_classifier.predict(X_train)\n",
        "y_pred_train = (y_pred_train > 0.5).astype(int)\n",
        "\n",
        "y_pred_test = mlp_classifier.predict(X_test)\n",
        "y_pred_test = (y_pred_test > 0.5).astype(int)\n",
        "\n",
        "\n",
        "train_acc = accuracy_score(y_train, y_pred_train)\n",
        "test_acc = accuracy_score(y_test, y_pred_test)\n",
        "f1 = f1_score(y_test, y_pred_test)\n",
        "\n",
        "print(f\"acc train: {train_acc}\")\n",
        "print(f\"acc test: {test_acc}\")\n",
        "print(f\"f1 score test: {f1:.4f}\")\n",
        "\n",
        "\n",
        "cm = confusion_matrix(y_test, y_pred_test)\n",
        "tn, fp, fn, tp = cm.ravel()\n",
        "\n",
        "\n",
        "plt.figure(figsize=(6,5))\n",
        "sns.heatmap(cm, annot=True, fmt='d', cmap='Blues', cbar=False,\n",
        "            xticklabels=['False', 'True'],\n",
        "            yticklabels=['False', 'True'])\n",
        "\n",
        "plt.xlabel('Predicted Values')\n",
        "plt.ylabel('Actual Values')\n",
        "plt.title('Confusion matrix')\n",
        "\n",
        "plt.show()"
      ]
    },
    {
      "cell_type": "code",
      "execution_count": 7,
      "metadata": {
        "colab": {
          "base_uri": "https://localhost:8080/",
          "height": 452
        },
        "id": "eEifomvr1msN",
        "outputId": "a682f524-36b9-4a94-9552-c6da92177821"
      },
      "outputs": [
        {
          "data": {
            "image/png": "[encoded data removed]",
            "text/plain": [
              "<Figure size 640x480 with 1 Axes>"
            ]
          },
          "metadata": {},
          "output_type": "display_data"
        }
      ],
      "source": [
        "plt.plot(loss_history)\n",
        "plt.title('Loss curve for classification')\n",
        "plt.show()"
      ]
    },
    {
      "cell_type": "code",
      "execution_count": 8,
      "metadata": {
        "colab": {
          "base_uri": "https://localhost:8080/",
          "height": 678
        },
        "id": "dCORFIWT1ZH4",
        "outputId": "2df9abc3-9d55-45a2-9022-d60ed9583217"
      },
      "outputs": [
        {
          "name": "stdout",
          "output_type": "stream",
          "text": [
            "Iteração 1/200 - Perda: 33.6609\n",
            "Iteração 21/200 - Perda: 0.9616\n",
            "Iteração 41/200 - Perda: 0.5397\n",
            "Iteração 61/200 - Perda: 0.4784\n",
            "Iteração 81/200 - Perda: 0.4563\n",
            "Iteração 101/200 - Perda: 0.4464\n",
            "Iteração 121/200 - Perda: 0.4414\n",
            "Iteração 141/200 - Perda: 0.4374\n",
            "Iteração 161/200 - Perda: 0.4331\n",
            "Iteração 181/200 - Perda: 0.4289\n",
            "Iteração 200/200 - Perda: 0.4260\n",
            "mse train: 0.42583342336156266\n",
            "mse test: 0.4127649606701807\n"
          ]
        },
        {
          "data": {
            "image/png": "[encoded data removed]",
            "text/plain": [
              "<Figure size 640x480 with 1 Axes>"
            ]
          },
          "metadata": {},
          "output_type": "display_data"
        }
      ],
      "source": [
        "layer_sizes_reg = [X_train_reg.shape[1], 5, 8, 1]\n",
        "activations_reg = ['relu', 'relu', 'linear']\n",
        "\n",
        "mlp_regressor = MLP(layer_sizes_reg, activations_reg)\n",
        "\n",
        "loss_history_reg = mlp_regressor.train(X_train_reg, y_train_reg, iterations=200, learning_rate=0.01, loss_type='mse')\n",
        "\n",
        "y_pred_train_reg = mlp_regressor.predict(X_train_reg)\n",
        "y_pred_test_reg = mlp_regressor.predict(X_test_reg)\n",
        "\n",
        "mse_train = mean_squared_error(y_train_reg, y_pred_train_reg)\n",
        "mse_test = mean_squared_error(y_test_reg, y_pred_test_reg)\n",
        "\n",
        "print(f\"mse train: {mse_train}\")\n",
        "print(f\"mse test: {mse_test}\")\n",
        "\n",
        "plt.plot(loss_history_reg)\n",
        "plt.title('Loss curve for regression')\n",
        "plt.show()"
      ]
    },
    {
      "cell_type": "code",
      "execution_count": 9,
      "metadata": {
        "colab": {
          "base_uri": "https://localhost:8080/",
          "height": 527
        },
        "id": "S0yjbgI_1jJd",
        "outputId": "ca6a455e-57c2-4d8c-c0b8-e8bf9f08a64b"
      },
      "outputs": [
        {
          "name": "stderr",
          "output_type": "stream",
          "text": [
            "/var/folders/3k/cb7k0ljx6nq3x52s0s1gh74c0000gn/T/ipykernel_50465/3012031945.py:13: MatplotlibDeprecationWarning: The get_cmap function was deprecated in Matplotlib 3.7 and will be removed in 3.11. Use ``matplotlib.colormaps[name]`` or ``matplotlib.colormaps.get_cmap()`` or ``pyplot.get_cmap()`` instead.\n",
            "  plt.hist(activation.flatten(), bins=bins, alpha=0.5, label=f'camada {i}', color=plt.cm.get_cmap(colormap)(i / len(activations)))\n"
          ]
        },
        {
          "data": {
            "image/png": "[encoded data removed]",
            "text/plain": [
              "<Figure size 640x480 with 1 Axes>"
            ]
          },
          "metadata": {},
          "output_type": "display_data"
        }
      ],
      "source": [
        "import matplotlib.pyplot as plt\n",
        "import numpy as np\n",
        "\n",
        "def plot_activations(model, X_sample, bins=30, num_examples=100, colormap='Blues'):\n",
        "    # Propaga a entrada X_sample através da rede e obtém as ativações\n",
        "    _, cache = model._forward(X_sample[:num_examples])\n",
        "\n",
        "    # Coletando as ativações das camadas (de A1 até A_final)\n",
        "    activations = [cache[f'A{i}'] for i in range(1, len(model.layer_sizes))]\n",
        "\n",
        "    # Plotando as ativações\n",
        "    for i, activation in enumerate(activations, 1):\n",
        "        plt.hist(activation.flatten(), bins=bins, alpha=0.5, label=f'camada {i}', color=plt.cm.get_cmap(colormap)(i / len(activations)))\n",
        "\n",
        "    plt.legend()\n",
        "    plt.title('Distribuição das Ativações nas Camadas')\n",
        "    plt.xlabel('Valor da Ativação')\n",
        "    plt.ylabel('Frequência')\n",
        "    plt.show()\n",
        "\n",
        "# Alterando o número de exemplos e bins, e usando uma paleta de cores diferente\n",
        "plot_activations(mlp_classifier, X_test, bins=50, num_examples=150, colormap='viridis')\n"
      ]
    }
  ],
  "metadata": {
    "colab": {
      "provenance": []
    },
    "kernelspec": {
      "display_name": ".venv",
      "language": "python",
      "name": "python3"
    },
    "language_info": {
      "codemirror_mode": {
        "name": "ipython",
        "version": 3
      },
      "file_extension": ".py",
      "mimetype": "text/x-python",
      "name": "python",
      "nbconvert_exporter": "python",
      "pygments_lexer": "ipython3",
      "version": "3.13.2"
    }
  },
  "nbformat": 4,
  "nbformat_minor": 0
}
