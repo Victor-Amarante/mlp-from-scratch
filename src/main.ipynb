{
 "cells": [
  {
   "cell_type": "markdown",
   "metadata": {},
   "source": [
    "## IF867 - Introdução à Aprendizagem Profunda\n",
    "### 1ª atividade prática\n",
    "\n",
    "Discente(s): Victor Amarante Florentino da Silva\n",
    "\n",
    "Período: 2024.2\n",
    "\n",
    "Descrição da atividade: Esse notebook é um exercício para construir um MLP from scratch utilizando a biblioteca Numpy a fim de aprender os conceitos básicos de redes neurais. O objetivo é utilizar para realizar uma tarefa de classificação com o dataset Iris.\n"
   ]
  },
  {
   "cell_type": "markdown",
   "metadata": {},
   "source": [
    "--"
   ]
  },
  {
   "cell_type": "markdown",
   "metadata": {},
   "source": [
    "### Import necessary libraries"
   ]
  },
  {
   "cell_type": "code",
   "execution_count": 1,
   "metadata": {},
   "outputs": [],
   "source": [
    "import numpy as np"
   ]
  }
 ],
 "metadata": {
  "kernelspec": {
   "display_name": "venv",
   "language": "python",
   "name": "python3"
  },
  "language_info": {
   "codemirror_mode": {
    "name": "ipython",
    "version": 3
   },
   "file_extension": ".py",
   "mimetype": "text/x-python",
   "name": "python",
   "nbconvert_exporter": "python",
   "pygments_lexer": "ipython3",
   "version": "3.10.11"
  }
 },
 "nbformat": 4,
 "nbformat_minor": 2
}
