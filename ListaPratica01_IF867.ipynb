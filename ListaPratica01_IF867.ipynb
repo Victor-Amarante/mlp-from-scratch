{
  "cells": [
    {
      "cell_type": "markdown",
      "metadata": {
        "id": "WECeh57QhL9O"
      },
      "source": [
        "## IF867 - Introdução à Aprendizagem Profunda\n",
        "### 1ª atividade prática\n",
        "\n",
        "Discente(s): Victor Amarante Florentino da Silva\n",
        "\n",
        "Período: 2024.2"
      ]
    },
    {
      "cell_type": "markdown",
      "metadata": {
        "id": "mRkbCshWhfya"
      },
      "source": [
        "## Instruções e Requisitos\n",
        "- Objetivo: Implementar e treinar um Multilayer Perceptron (MLP), inteiramente em [NumPy](https://numpy.org/doc/stable/) ou [Numba](https://numba.readthedocs.io/en/stable/index.html), sem o uso de bibliotecas de aprendizado profundo.\n",
        "- A atividade pode ser feita em dupla.\n",
        "\n",
        "### Tarefas\n",
        "\n",
        "__Implementação (50%):__\n",
        "\n",
        "- Construa um MLP com uma camada de entrada, pelo menos duas camadas ocultas e uma camada de saída.\n",
        "- Implemente pelo menos duas funções de ativação diferentes para as camadas ocultas; use Sigmoid e Linear para a camada de saída.\n",
        "- Implemente forward e backpropagation.\n",
        "- Implemente um otimizador de sua escolha, adequado ao problema abordado.\n",
        "- Implemente as funções de treinamento e avaliação.\n",
        "\n",
        "__Aplicação (30%):__\n",
        "\n",
        "  Teste se os seus modelos estão funcionando bem com as seguintes tarefas:\n",
        "  - Regressão\n",
        "  - Classificação binária\n",
        "\n",
        "__Experimentação (20%):__\n",
        "\n",
        "  Teste os seus modelos com variações na arquitetura, no pré-processamento, etc. Escolha pelo menos uma das seguintes opções:\n",
        "  - Variações na inicialização de pesos\n",
        "  - Variações na arquitetura\n",
        "  - Implementação de técnicas de regularização\n",
        "  - Visualização das ativações e gradientes\n",
        "\n",
        "***Bônus:*** Implemente o MLP utilizando uma biblioteca de machine learning (ex.: [PyTorch](https://pytorch.org/), [TensorFlow](https://www.tensorflow.org/?hl=pt-br), [tinygrad](https://docs.tinygrad.org/), [Jax](https://jax.readthedocs.io/en/latest/quickstart.html)) e teste-o em uma das aplicações e em um dos experimentos propostos. O bônus pode substituir um dos desafios de aplicação ou experimentos feitos em NumPy, ou simplesmente somar pontos para a pontuação geral.\n",
        "\n",
        "### Datasets recomendados:\n",
        "Aqui estão alguns datasets recomendados, mas fica a cargo do aluno escolher os datasets que utilizará na atividade, podendo escolher um dataset não listado abaixo.\n",
        "- Classificação\n",
        "\n",
        "  - [Iris](https://archive.ics.uci.edu/dataset/53/iris)\n",
        "  - [Breast Cancer Wisconsin (Diagnostic)](https://archive.ics.uci.edu/dataset/17/breast+cancer+wisconsin+diagnostic)\n",
        "  - [CDC Diabetes Health Indicators](https://archive.ics.uci.edu/dataset/891/cdc+diabetes+health+indicators)\n",
        "\n",
        "- Regressão\n",
        "\n",
        "  - [Air Quality](https://archive.ics.uci.edu/dataset/360/air+quality)\n",
        "  - [Student Performance](https://archive.ics.uci.edu/dataset/320/student+performance)\n",
        "  - [Wine Quality](https://archive.ics.uci.edu/dataset/186/wine+quality)\n",
        "\n",
        "### Requisitos para Entrega\n",
        "\n",
        "Um notebook Jupyter (de preferência, o link do colab) ou script Python contendo:\n",
        "\n",
        "- Código: Implementação completa da MLP.\n",
        "- Gráficos e Análises: Gráficos da curva de perda, ativações, gradientes e insights do treinamento, resultantes dos experimentos com parada antecipada e diferentes técnicas de regularização.\n",
        "- Relatório: Um breve relatório detalhando o impacto de várias configurações de hiperparâmetros(ex.: inicialização de pesos, número de camadas ocultas e neurônios) e métodos de regularização no desempenho do modelo.\n"
      ]
    }
  ],
  "metadata": {
    "colab": {
      "collapsed_sections": [
        "WECeh57QhL9O"
      ],
      "provenance": []
    },
    "kernelspec": {
      "display_name": "Python 3",
      "name": "python3"
    },
    "language_info": {
      "codemirror_mode": {
        "name": "ipython",
        "version": 3
      },
      "file_extension": ".py",
      "mimetype": "text/x-python",
      "name": "python",
      "nbconvert_exporter": "python",
      "pygments_lexer": "ipython3",
      "version": "3.13.0"
    }
  },
  "nbformat": 4,
  "nbformat_minor": 0
}
